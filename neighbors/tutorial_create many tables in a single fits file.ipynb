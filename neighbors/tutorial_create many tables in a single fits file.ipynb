{
 "cells": [
  {
   "cell_type": "code",
   "execution_count": 3,
   "metadata": {},
   "outputs": [],
   "source": [
    "import numpy as np\n",
    "from astropy.io import fits\n",
    "from astropy.table import Table\n"
   ]
  },
  {
   "cell_type": "code",
   "execution_count": 4,
   "metadata": {},
   "outputs": [],
   "source": [
    "ta = Table()\n",
    "ta['test1'] = np.arange(0, 100.)\n",
    "col1 = fits.Column(name=ta.colnames[0], format='E', array=ta)\n",
    "\n",
    "hdu1 = fits.BinTableHDU.from_columns(fits.ColDefs([col1]))\n",
    "\n",
    "tb = Table()\n",
    "tb['test2'] = np.arange(0, 100.)\n",
    "col2 = fits.Column(name=tb.colnames[0], format='E', array=tb)\n",
    "\n",
    "hdu2 = fits.BinTableHDU.from_columns(fits.ColDefs([col2]))\n",
    "\n",
    "# create a header\n",
    "hdr = fits.Header()\n",
    "hdr['Author'] = 'Me'\n",
    "primary_hdu = fits.PrimaryHDU(header=hdr)\n",
    "\n",
    "# put all the HDUs together\n",
    "hdul = fits.HDUList([primary_hdu, hdu1, hdu2])\n",
    "\n",
    "# write it out\n",
    "hdul.writeto('table.fits')"
   ]
  },
  {
   "cell_type": "code",
   "execution_count": 5,
   "metadata": {},
   "outputs": [],
   "source": [
    "#open the file\n",
    "hdul = fits.open('table.fits')"
   ]
  },
  {
   "cell_type": "code",
   "execution_count": 6,
   "metadata": {},
   "outputs": [
    {
     "name": "stdout",
     "output_type": "stream",
     "text": [
      "Filename: table.fits\n",
      "No.    Name      Ver    Type      Cards   Dimensions   Format\n",
      "  0  PRIMARY       1 PrimaryHDU       5   ()      \n",
      "  1                1 BinTableHDU     10   100R x 1C   [E]   \n",
      "  2                1 BinTableHDU     10   100R x 1C   [E]   \n"
     ]
    }
   ],
   "source": [
    "hdul.info()"
   ]
  },
  {
   "cell_type": "code",
   "execution_count": 7,
   "metadata": {},
   "outputs": [],
   "source": [
    "data_1 = hdul[1].data"
   ]
  },
  {
   "cell_type": "code",
   "execution_count": 8,
   "metadata": {},
   "outputs": [
    {
     "data": {
      "text/plain": [
       "FITS_rec([( 0.,), ( 1.,), ( 2.,), ( 3.,), ( 4.,), ( 5.,), ( 6.,), ( 7.,),\n",
       "          ( 8.,), ( 9.,), (10.,), (11.,), (12.,), (13.,), (14.,), (15.,),\n",
       "          (16.,), (17.,), (18.,), (19.,), (20.,), (21.,), (22.,), (23.,),\n",
       "          (24.,), (25.,), (26.,), (27.,), (28.,), (29.,), (30.,), (31.,),\n",
       "          (32.,), (33.,), (34.,), (35.,), (36.,), (37.,), (38.,), (39.,),\n",
       "          (40.,), (41.,), (42.,), (43.,), (44.,), (45.,), (46.,), (47.,),\n",
       "          (48.,), (49.,), (50.,), (51.,), (52.,), (53.,), (54.,), (55.,),\n",
       "          (56.,), (57.,), (58.,), (59.,), (60.,), (61.,), (62.,), (63.,),\n",
       "          (64.,), (65.,), (66.,), (67.,), (68.,), (69.,), (70.,), (71.,),\n",
       "          (72.,), (73.,), (74.,), (75.,), (76.,), (77.,), (78.,), (79.,),\n",
       "          (80.,), (81.,), (82.,), (83.,), (84.,), (85.,), (86.,), (87.,),\n",
       "          (88.,), (89.,), (90.,), (91.,), (92.,), (93.,), (94.,), (95.,),\n",
       "          (96.,), (97.,), (98.,), (99.,)],\n",
       "         dtype=(numpy.record, [('test1', '>f4')]))"
      ]
     },
     "execution_count": 8,
     "metadata": {},
     "output_type": "execute_result"
    }
   ],
   "source": [
    "data_1"
   ]
  },
  {
   "cell_type": "code",
   "execution_count": 9,
   "metadata": {},
   "outputs": [],
   "source": [
    "#load files\n",
    "from astropy.io import ascii\n",
    "ta = ascii.read('/home/ade/Documents/Research/comparemodel/model_spectra_all_200.csv', format='csv')\n",
    "tb = ascii.read('/home/ade/Documents/Research/comparemodel/model_spectra_all_datarelease.csv', format='csv')\n"
   ]
  },
  {
   "cell_type": "code",
   "execution_count": 10,
   "metadata": {},
   "outputs": [],
   "source": [
    "from astropy.io import fits\n",
    "hdu_list = fits.HDUList([\n",
    "    fits.PrimaryHDU(),\n",
    "    fits.table_to_hdu(ta),\n",
    "    fits.table_to_hdu(tb), \n",
    "])\n",
    "hdu_list.writeto('tables_spectra.fits')"
   ]
  },
  {
   "cell_type": "code",
   "execution_count": 14,
   "metadata": {},
   "outputs": [
    {
     "name": "stdout",
     "output_type": "stream",
     "text": [
      "Filename: tables_spectra.fits\n",
      "No.    Name      Ver    Type      Cards   Dimensions   Format\n",
      "  0  PRIMARY       1 PrimaryHDU       4   ()      \n",
      "  1                1 BinTableHDU     20   3856R x 6C   [K, D, D, D, D, D]   \n",
      "  2                1 BinTableHDU     20   4038R x 6C   [K, D, D, D, D, D]   \n"
     ]
    }
   ],
   "source": [
    "hdul = fits.open('tables_spectra.fits')\n",
    "hdul.info()"
   ]
  },
  {
   "cell_type": "code",
   "execution_count": 32,
   "metadata": {},
   "outputs": [],
   "source": [
    "data_1 = hdul[1].data"
   ]
  },
  {
   "cell_type": "code",
   "execution_count": 36,
   "metadata": {},
   "outputs": [],
   "source": [
    "%matplotlib inline\n",
    "import matplotlib as mpl\n",
    "import matplotlib.pyplot as plt\n",
    "mpl.rc('axes', labelsize=14)\n",
    "mpl.rc('xtick', labelsize=12)\n",
    "mpl.rc('ytick', labelsize=12)"
   ]
  },
  {
   "cell_type": "code",
   "execution_count": 38,
   "metadata": {},
   "outputs": [
    {
     "data": {
      "text/plain": [
       "[<matplotlib.lines.Line2D at 0x7f06dd9f89a0>]"
      ]
     },
     "execution_count": 38,
     "metadata": {},
     "output_type": "execute_result"
    },
    {
     "data": {
      "image/png": "[encoded data removed]",
      "text/plain": [
       "<Figure size 432x288 with 1 Axes>"
      ]
     },
     "metadata": {
      "needs_background": "light"
     },
     "output_type": "display_data"
    }
   ],
   "source": [
    "%matplotlib inline\n",
    "import matplotlib.pyplot as plt\n",
    "plt.plot(data_1['w_obj'], data_1['f_obj'])"
   ]
  },
  {
   "cell_type": "code",
   "execution_count": null,
   "metadata": {},
   "outputs": [],
   "source": []
  }
 ],
 "metadata": {
  "kernelspec": {
   "display_name": "Python 3",
   "language": "python",
   "name": "python3"
  },
  "language_info": {
   "codemirror_mode": {
    "name": "ipython",
    "version": 3
   },
   "file_extension": ".py",
   "mimetype": "text/x-python",
   "name": "python",
   "nbconvert_exporter": "python",
   "pygments_lexer": "ipython3",
   "version": "3.8.5"
  }
 },
 "nbformat": 4,
 "nbformat_minor": 4
}
