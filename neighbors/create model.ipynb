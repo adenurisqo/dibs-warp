{
 "cells": [
  {
   "cell_type": "code",
   "execution_count": 1,
   "metadata": {},
   "outputs": [],
   "source": [
    "#import go here\n",
    "import numpy as np\n",
    "from astropy.io import fits\n",
    "from tqdm import tqdm\n",
    "import pandas as pd\n",
    "from scipy import interpolate"
   ]
  },
  {
   "cell_type": "code",
   "execution_count": 2,
   "metadata": {},
   "outputs": [],
   "source": [
    "#files go here\n",
    "\n",
    "#list of 1253's neighbors\n",
    "list_of_neighbors = '/home/ade/Documents/Research/fittesting/neighborsfile/170723002601253snr.csv'\n",
    "object_spectra = '/home/ade/Documents/Research/fittesting/testobject/1707230026012532.fits'\n",
    "neighbors_spectra_path = '/home/ade/Documents/Research/fittesting/neighborsspectra/'\n"
   ]
  },
  {
   "cell_type": "code",
   "execution_count": 3,
   "metadata": {},
   "outputs": [],
   "source": [
    "#function\n",
    "def wav(c0, c1, x):\n",
    "    return c0 + (c1*x)"
   ]
  },
  {
   "cell_type": "code",
   "execution_count": 4,
   "metadata": {},
   "outputs": [],
   "source": [
    "#object wavelength and flux construction\n",
    "spectra = fits.open(object_spectra, memmap = True)\n",
    "f_obj = spectra[4].data #flux of the spectra\n",
    "e_obj = spectra[1].data #error of flux\n",
    "disp_start = spectra[4].header['CRVAL1'] - (spectra[4].header['CRPIX1'] - 1) * spectra[4].header['CDELT1'] #at which wavelength the dispersion starts\n",
    "w_obj = wav(disp_start, spectra[4].header['CDELT1'], np.linspace(1, len(f_obj), len(f_obj)))\n",
    "\n",
    "#now we have wavelength and flux of object"
   ]
  },
  {
   "cell_type": "code",
   "execution_count": 5,
   "metadata": {},
   "outputs": [
    {
     "name": "stdout",
     "output_type": "stream",
     "text": [
      "maximum of start wavelength 5650.287388803847\n",
      "maximum of end wavelength 5871.183129442087\n"
     ]
    }
   ],
   "source": [
    "#load the list of neigbors file\n",
    "df_neighbors = pd.read_csv(list_of_neighbors)\n",
    "\n",
    "#selection based on parameter\n",
    "#data of object\n",
    "#teff 6363.256348, logg 3.489459, feh -0.020469\n",
    "\n",
    "df_neighbors = df_neighbors[df_neighbors.teff <= 6363.256348 + 67]\n",
    "df_neighbors = df_neighbors[df_neighbors.teff >= 6363.256348 - 67]\n",
    "df_neighbors = df_neighbors[df_neighbors.logg <= 3.489459 + 0.12]\n",
    "df_neighbors = df_neighbors[df_neighbors.logg >= 3.489459 - 0.12]\n",
    "df_neighbors = df_neighbors[df_neighbors.fe_h <= -0.020469 + 0.034]\n",
    "df_neighbors = df_neighbors[df_neighbors.fe_h >= -0.020469 - 0.034]\n",
    "#df_neighbors = df_neighbors.reset_index(drop=True)\n",
    "\n",
    "\n",
    "#selection base on SNR\n",
    "df_neighbors = df_neighbors[df_neighbors.snr_c2_iraf >= 30]\n",
    "df_neighbors = df_neighbors.reset_index(drop=True)\n",
    "\n",
    "testobject = df_neighbors['sobject_id_1']\n",
    "\n",
    "matrix_of_flux = []\n",
    "\n",
    "min_wav = []\n",
    "max_wav = []\n",
    "#check the wavelength of each of neighbors spectra\n",
    "for i in range(len(testobject)):\n",
    "    #read the file that contains the neighbors\n",
    "    spectra = fits.open(neighbors_spectra_path + str(testobject[i]) +'2.fits', memmap = True)\n",
    "    \n",
    "    #flux of the spectra\n",
    "    f = spectra[4].data \n",
    "    \n",
    "    #wavelength construction\n",
    "    disp_start = spectra[4].header['CRVAL1'] - (spectra[4].header['CRPIX1'] - 1) * spectra[4].header['CDELT1'] #at which wavelength the dispersion starts\n",
    "    w = wav(disp_start, spectra[4].header['CDELT1'], np.linspace(1, len(f), len(f)))\n",
    "    \n",
    "    #append min and max wavelength value\n",
    "    min_wav.append(w[0])\n",
    "    max_wav.append(w[-1])\n",
    "    \n",
    "    #for each of the neighbors spectra, interpolate the flux into object spectra wavelength\n",
    "    #print wavelength of object\n",
    "    #print('length of w_obj ' +  str(len(w_obj)))\n",
    "    #print('length of w_neigh ' +  str(len(w)))\n",
    "    #print('min of w_obj ' + str((w_obj[0])))\n",
    "    #print('max of w_obj ' + str((w_obj[-1])))\n",
    "    #print('min of w ' + str((w[0])))\n",
    "    #print('max of w ' + str((w[-1])))\n",
    "    #print(\"---\")\n",
    "    \n",
    "    #interpolation = interpolate.interp1d(w, f)\n",
    "    #f = interpolation(w_obj)\n",
    "    \n",
    "    #store the flux value from each spectra\n",
    "    #matrix_of_flux.append(pd.Series(f, name=str(i)))\n",
    "#matrix_of_flux = pd.concat(result, axis=1)\n",
    "print(\"maximum of start wavelength \" + str(max(min_wav)))\n",
    "print(\"maximum of end wavelength \" + str(min(max_wav)))"
   ]
  },
  {
   "cell_type": "code",
   "execution_count": 6,
   "metadata": {},
   "outputs": [
    {
     "name": "stdout",
     "output_type": "stream",
     "text": [
      "start of w_obj 5648.0361118317705\n",
      "end of w_obj 5872.002339735559\n"
     ]
    }
   ],
   "source": [
    "print('start of w_obj ' + str((w_obj[0])))\n",
    "print('end of w_obj ' + str((w_obj[-1])))"
   ]
  },
  {
   "cell_type": "code",
   "execution_count": 7,
   "metadata": {},
   "outputs": [
    {
     "name": "stdout",
     "output_type": "stream",
     "text": [
      "5650.278508741186\n",
      "41\n",
      "5650.3332013487325\n",
      "42\n"
     ]
    }
   ],
   "source": [
    "print(str(w_obj[min(range(len(w_obj)), key=lambda i: abs(w_obj[i]-max(min_wav)))]))\n",
    "print(min(range(len(w_obj)), key=lambda i: abs(w_obj[i]-max(min_wav))))\n",
    "\n",
    "nearest_index_max_start_wav = min(range(len(w_obj)), key=lambda i: abs(w_obj[i]-max(min_wav)))\n",
    "if w_obj[nearest_index_max_start_wav] < max(min_wav):\n",
    "    nearest_index_max_start_wav = nearest_index_max_start_wav + 1\n",
    "print(w_obj[nearest_index_max_start_wav])\n",
    "print(nearest_index_max_start_wav)"
   ]
  },
  {
   "cell_type": "code",
   "execution_count": 8,
   "metadata": {},
   "outputs": [
    {
     "name": "stdout",
     "output_type": "stream",
     "text": [
      "5871.181950622358\n",
      "4080\n",
      "5871.181950622358\n",
      "4080\n"
     ]
    }
   ],
   "source": [
    "print(str(w_obj[min(range(len(w_obj)), key=lambda i: abs(w_obj[i]-min(max_wav)))]))\n",
    "print(min(range(len(w_obj)), key=lambda i: abs(w_obj[i]-min(max_wav))))\n",
    "\n",
    "nearest_index_min_end_wav = min(range(len(w_obj)), key=lambda i: abs(w_obj[i]-min(max_wav)))\n",
    "if w_obj[nearest_index_min_end_wav] > min(max_wav):\n",
    "    nearest_index_min_end_wav = nearest_index_min_end_wav - 1\n",
    "print(w_obj[nearest_index_min_end_wav])\n",
    "print(nearest_index_min_end_wav)"
   ]
  },
  {
   "cell_type": "code",
   "execution_count": 9,
   "metadata": {},
   "outputs": [
    {
     "name": "stderr",
     "output_type": "stream",
     "text": [
      "100%|██████████| 10/10 [00:00<00:00, 116.82it/s]\n"
     ]
    }
   ],
   "source": [
    "w_obj = w_obj[nearest_index_max_start_wav:nearest_index_min_end_wav]\n",
    "f_obj = f_obj[nearest_index_max_start_wav:nearest_index_min_end_wav]\n",
    "e_obj = e_obj[nearest_index_max_start_wav:nearest_index_min_end_wav]\n",
    "\n",
    "e_obj = e_obj.tolist()\n",
    "\n",
    "matrix_of_flux = []\n",
    "#check the wavelength of each of neighbors spectra\n",
    "for i in tqdm(range(len(testobject))):\n",
    "    #read the file that contains the neighbors\n",
    "    spectra = fits.open(neighbors_spectra_path + str(testobject[i]) +'2.fits', memmap = True)\n",
    "    \n",
    "    #flux of the spectra\n",
    "    f = spectra[4].data \n",
    "    \n",
    "    #wavelength construction\n",
    "    disp_start = spectra[4].header['CRVAL1'] - (spectra[4].header['CRPIX1'] - 1) * spectra[4].header['CDELT1'] #at which wavelength the dispersion starts\n",
    "    w = wav(disp_start, spectra[4].header['CDELT1'], np.linspace(1, len(f), len(f)))\n",
    "    \n",
    "    #print(w[0])\n",
    "    #nterpolate to selected range object spectra\n",
    "    interpolation = interpolate.interp1d(w, f)\n",
    "    f = interpolation(w_obj)\n",
    "    \n",
    "    matrix_of_flux.append(pd.Series(f, name=str(i)))\n"
   ]
  },
  {
   "cell_type": "code",
   "execution_count": 10,
   "metadata": {},
   "outputs": [],
   "source": [
    "result = pd.concat(matrix_of_flux, axis=1)"
   ]
  },
  {
   "cell_type": "code",
   "execution_count": 11,
   "metadata": {},
   "outputs": [],
   "source": [
    "result = result.assign(w_obj = w_obj, f_obj = f_obj, e_obj = e_obj, f_mean = result.mean(1), f_stddev = result.std(1))"
   ]
  },
  {
   "cell_type": "code",
   "execution_count": null,
   "metadata": {},
   "outputs": [],
   "source": [
    "#all_neighbors = pd.read_csv('model_spectra.csv')"
   ]
  },
  {
   "cell_type": "code",
   "execution_count": null,
   "metadata": {},
   "outputs": [],
   "source": [
    "import matplotlib.pyplot as plt\n",
    "\n",
    "plt.plot(w_obj, f_obj, 'k')\n",
    "plt.plot(w_obj, result.f_mean)\n",
    "#plt.plot(w_obj, all_neighbors.f_mean +0.2, 'r')\n",
    "plt.ylim(0, 1.5)\n",
    "plt.xlim(5760, 5800)"
   ]
  },
  {
   "cell_type": "code",
   "execution_count": 12,
   "metadata": {},
   "outputs": [],
   "source": [
    "result.to_csv('model_spectra_30_datarelease.csv', columns = [\"w_obj\", \"f_obj\", \"e_obj\",\"f_mean\", \"f_stddev\"])"
   ]
  },
  {
   "cell_type": "code",
   "execution_count": null,
   "metadata": {},
   "outputs": [],
   "source": [
    "plt.plot(w_obj, f_obj/result.f_mean, 'k')\n",
    "plt.plot(w_obj, f_obj + 0.4, 'b')\n",
    "plt.ylim(0, 1.5)\n",
    "plt.xlim(5750, 5810)"
   ]
  },
  {
   "cell_type": "code",
   "execution_count": null,
   "metadata": {},
   "outputs": [],
   "source": [
    "import matplotlib.pyplot as plt\n",
    "\n",
    "\n",
    "plt.plot(w_obj, f_obj, 'k')\n",
    "plt.plot(w_obj, result.f_mean)\n",
    "#plt.plot(w_obj, all_neighbors.f_mean +0.2, 'r')\n",
    "plt.ylim(0, 1.5)\n",
    "plt.xlim(5750, 5810)"
   ]
  },
  {
   "cell_type": "code",
   "execution_count": null,
   "metadata": {},
   "outputs": [],
   "source": []
  }
 ],
 "metadata": {
  "kernelspec": {
   "display_name": "Python 3",
   "language": "python",
   "name": "python3"
  },
  "language_info": {
   "codemirror_mode": {
    "name": "ipython",
    "version": 3
   },
   "file_extension": ".py",
   "mimetype": "text/x-python",
   "name": "python",
   "nbconvert_exporter": "python",
   "pygments_lexer": "ipython3",
   "version": "3.8.5"
  }
 },
 "nbformat": 4,
 "nbformat_minor": 4
}
