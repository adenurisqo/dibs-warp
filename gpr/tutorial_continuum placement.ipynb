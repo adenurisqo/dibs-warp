{
 "cells": [
  {
   "cell_type": "code",
   "execution_count": 1,
   "metadata": {},
   "outputs": [],
   "source": [
    "#import everything here\n",
    "import numpy as np\n",
    "import pandas as pd\n",
    "import lmfit"
   ]
  },
  {
   "cell_type": "code",
   "execution_count": 8,
   "metadata": {},
   "outputs": [
    {
     "data": {
      "text/html": [
       "<div>\n",
       "<style scoped>\n",
       "    .dataframe tbody tr th:only-of-type {\n",
       "        vertical-align: middle;\n",
       "    }\n",
       "\n",
       "    .dataframe tbody tr th {\n",
       "        vertical-align: top;\n",
       "    }\n",
       "\n",
       "    .dataframe thead th {\n",
       "        text-align: right;\n",
       "    }\n",
       "</style>\n",
       "<table border=\"1\" class=\"dataframe\">\n",
       "  <thead>\n",
       "    <tr style=\"text-align: right;\">\n",
       "      <th></th>\n",
       "      <th>Unnamed: 0</th>\n",
       "      <th>w_obj</th>\n",
       "      <th>f_obj</th>\n",
       "      <th>e_obj</th>\n",
       "      <th>f_mean</th>\n",
       "      <th>f_stddev</th>\n",
       "    </tr>\n",
       "  </thead>\n",
       "  <tbody>\n",
       "    <tr>\n",
       "      <th>0</th>\n",
       "      <td>0</td>\n",
       "      <td>5651.809902</td>\n",
       "      <td>1.020033</td>\n",
       "      <td>0.080839</td>\n",
       "      <td>0.997096</td>\n",
       "      <td>0.016833</td>\n",
       "    </tr>\n",
       "    <tr>\n",
       "      <th>1</th>\n",
       "      <td>1</td>\n",
       "      <td>5651.864594</td>\n",
       "      <td>1.046876</td>\n",
       "      <td>0.079126</td>\n",
       "      <td>0.997601</td>\n",
       "      <td>0.015559</td>\n",
       "    </tr>\n",
       "    <tr>\n",
       "      <th>2</th>\n",
       "      <td>2</td>\n",
       "      <td>5651.919287</td>\n",
       "      <td>1.072260</td>\n",
       "      <td>0.077609</td>\n",
       "      <td>0.997895</td>\n",
       "      <td>0.016374</td>\n",
       "    </tr>\n",
       "    <tr>\n",
       "      <th>3</th>\n",
       "      <td>3</td>\n",
       "      <td>5651.973980</td>\n",
       "      <td>1.048988</td>\n",
       "      <td>0.079016</td>\n",
       "      <td>0.997315</td>\n",
       "      <td>0.016973</td>\n",
       "    </tr>\n",
       "    <tr>\n",
       "      <th>4</th>\n",
       "      <td>4</td>\n",
       "      <td>5652.028672</td>\n",
       "      <td>0.995554</td>\n",
       "      <td>0.082279</td>\n",
       "      <td>0.995801</td>\n",
       "      <td>0.016732</td>\n",
       "    </tr>\n",
       "    <tr>\n",
       "      <th>...</th>\n",
       "      <td>...</td>\n",
       "      <td>...</td>\n",
       "      <td>...</td>\n",
       "      <td>...</td>\n",
       "      <td>...</td>\n",
       "      <td>...</td>\n",
       "    </tr>\n",
       "    <tr>\n",
       "      <th>3989</th>\n",
       "      <td>3989</td>\n",
       "      <td>5869.978713</td>\n",
       "      <td>0.998854</td>\n",
       "      <td>0.116081</td>\n",
       "      <td>1.000146</td>\n",
       "      <td>0.020302</td>\n",
       "    </tr>\n",
       "    <tr>\n",
       "      <th>3990</th>\n",
       "      <td>3990</td>\n",
       "      <td>5870.033406</td>\n",
       "      <td>1.021658</td>\n",
       "      <td>0.113251</td>\n",
       "      <td>1.002827</td>\n",
       "      <td>0.027337</td>\n",
       "    </tr>\n",
       "    <tr>\n",
       "      <th>3991</th>\n",
       "      <td>3991</td>\n",
       "      <td>5870.088098</td>\n",
       "      <td>1.032947</td>\n",
       "      <td>0.112790</td>\n",
       "      <td>1.001576</td>\n",
       "      <td>0.023502</td>\n",
       "    </tr>\n",
       "    <tr>\n",
       "      <th>3992</th>\n",
       "      <td>3992</td>\n",
       "      <td>5870.142791</td>\n",
       "      <td>1.005990</td>\n",
       "      <td>0.115304</td>\n",
       "      <td>0.997363</td>\n",
       "      <td>0.018769</td>\n",
       "    </tr>\n",
       "    <tr>\n",
       "      <th>3993</th>\n",
       "      <td>3993</td>\n",
       "      <td>5870.197484</td>\n",
       "      <td>1.092600</td>\n",
       "      <td>0.107736</td>\n",
       "      <td>0.998133</td>\n",
       "      <td>0.019573</td>\n",
       "    </tr>\n",
       "  </tbody>\n",
       "</table>\n",
       "<p>3994 rows × 6 columns</p>\n",
       "</div>"
      ],
      "text/plain": [
       "      Unnamed: 0        w_obj     f_obj     e_obj    f_mean  f_stddev\n",
       "0              0  5651.809902  1.020033  0.080839  0.997096  0.016833\n",
       "1              1  5651.864594  1.046876  0.079126  0.997601  0.015559\n",
       "2              2  5651.919287  1.072260  0.077609  0.997895  0.016374\n",
       "3              3  5651.973980  1.048988  0.079016  0.997315  0.016973\n",
       "4              4  5652.028672  0.995554  0.082279  0.995801  0.016732\n",
       "...          ...          ...       ...       ...       ...       ...\n",
       "3989        3989  5869.978713  0.998854  0.116081  1.000146  0.020302\n",
       "3990        3990  5870.033406  1.021658  0.113251  1.002827  0.027337\n",
       "3991        3991  5870.088098  1.032947  0.112790  1.001576  0.023502\n",
       "3992        3992  5870.142791  1.005990  0.115304  0.997363  0.018769\n",
       "3993        3993  5870.197484  1.092600  0.107736  0.998133  0.019573\n",
       "\n",
       "[3994 rows x 6 columns]"
      ]
     },
     "execution_count": 8,
     "metadata": {},
     "output_type": "execute_result"
    }
   ],
   "source": [
    "#load the data here\n",
    "a = pd.read_csv('/home/ade/Documents/Research/170723002601253a.csv') #30_200 n = 203\n",
    "a"
   ]
  },
  {
   "cell_type": "code",
   "execution_count": 23,
   "metadata": {},
   "outputs": [],
   "source": [
    "#objective function\n",
    "\n",
    "def continuum(y_obj, y_model):\n",
    "    y_model = y_model * a\n",
    "    return y_obj - y_model\n",
    "\n",
    "def residual(pars, y_obj, y_model):\n",
    "    \"\"\"Model a decaying sine wave and subtract data.\"\"\"\n",
    "    vals = pars.valuesdict()\n",
    "    const = vals['const']\n",
    "    return y_obj - (const*y_model)"
   ]
  },
  {
   "cell_type": "code",
   "execution_count": 25,
   "metadata": {},
   "outputs": [
    {
     "name": "stdout",
     "output_type": "stream",
     "text": [
      "[[Fit Statistics]]\n",
      "    # fitting method   = leastsq\n",
      "    # function evals   = 4\n",
      "    # data points      = 3994\n",
      "    # variables        = 1\n",
      "    chi-square         = 13.9877060\n",
      "    reduced chi-square = 0.00350306\n",
      "    Akaike info crit   = -22581.5526\n",
      "    Bayesian info crit = -22575.2601\n",
      "[[Variables]]\n",
      "    const:  0.99502094 +/- 9.5274e-04 (0.10%) (init = 1)\n"
     ]
    }
   ],
   "source": [
    "fit_params = Parameters()\n",
    "fit_params.add('const', value=1.0)\n",
    "out = minimize(residual, fit_params, args=(a['f_obj'], a['f_mean']))\n",
    "\n",
    "print(fit_report(out))"
   ]
  },
  {
   "cell_type": "code",
   "execution_count": 28,
   "metadata": {},
   "outputs": [
    {
     "data": {
      "text/plain": [
       "(0.0, 1.5)"
      ]
     },
     "execution_count": 28,
     "metadata": {},
     "output_type": "execute_result"
    },
    {
     "data": {
      "image/png": "[encoded data removed]",
      "text/plain": [
       "<Figure size 432x288 with 1 Axes>"
      ]
     },
     "metadata": {
      "needs_background": "light"
     },
     "output_type": "display_data"
    }
   ],
   "source": [
    "import matplotlib.pyplot as plt\n",
    "plt.plot(a.w_obj, a.f_obj, 'k-')\n",
    "plt.plot(a.w_obj, a.f_mean, 'b-')\n",
    "plt.xlim(5770, 5790)\n",
    "plt.ylim(0, 1.5)"
   ]
  },
  {
   "cell_type": "code",
   "execution_count": 29,
   "metadata": {},
   "outputs": [
    {
     "data": {
      "text/plain": [
       "(0.0, 1.5)"
      ]
     },
     "execution_count": 29,
     "metadata": {},
     "output_type": "execute_result"
    },
    {
     "data": {
      "image/png": "[encoded data removed]",
      "text/plain": [
       "<Figure size 432x288 with 1 Axes>"
      ]
     },
     "metadata": {
      "needs_background": "light"
     },
     "output_type": "display_data"
    }
   ],
   "source": [
    "import matplotlib.pyplot as plt\n",
    "plt.plot(a.w_obj, a.f_obj, 'k-')\n",
    "plt.plot(a.w_obj, a.f_mean*0.99502094, 'b-')\n",
    "plt.xlim(5770, 5790)\n",
    "plt.ylim(0, 1.5)"
   ]
  },
  {
   "cell_type": "code",
   "execution_count": 22,
   "metadata": {},
   "outputs": [
    {
     "name": "stdout",
     "output_type": "stream",
     "text": [
      "[[Fit Statistics]]\n",
      "    # fitting method   = leastsq\n",
      "    # function evals   = 83\n",
      "    # data points      = 1001\n",
      "    # variables        = 4\n",
      "    chi-square         = 498.811759\n",
      "    reduced chi-square = 0.50031270\n",
      "    Akaike info crit   = -689.222517\n",
      "    Bayesian info crit = -669.587497\n",
      "[[Variables]]\n",
      "    amp:     13.9121945 +/- 0.14120288 (1.01%) (init = 13)\n",
      "    period:  5.48507045 +/- 0.02666493 (0.49%) (init = 2)\n",
      "    shift:   0.16203677 +/- 0.01405661 (8.67%) (init = 0)\n",
      "    decay:   0.03264538 +/- 3.8014e-04 (1.16%) (init = 0.02)\n",
      "[[Correlations]] (unreported correlations are < 0.100)\n",
      "    C(period, shift) =  0.797\n",
      "    C(amp, decay)    =  0.582\n",
      "    C(amp, shift)    = -0.297\n",
      "    C(amp, period)   = -0.243\n",
      "    C(shift, decay)  = -0.182\n",
      "    C(period, decay) = -0.150\n"
     ]
    }
   ],
   "source": [
    "from numpy import exp, linspace, pi, random, sign, sin\n",
    "\n",
    "from lmfit import Parameters, fit_report, minimize\n",
    "\n",
    "p_true = Parameters()\n",
    "p_true.add('amp', value=14.0)\n",
    "p_true.add('period', value=5.46)\n",
    "p_true.add('shift', value=0.123)\n",
    "p_true.add('decay', value=0.032)\n",
    "\n",
    "\n",
    "def residual(pars, x, data=None):\n",
    "    \"\"\"Model a decaying sine wave and subtract data.\"\"\"\n",
    "    vals = pars.valuesdict()\n",
    "    amp = vals['amp']\n",
    "    per = vals['period']\n",
    "    shift = vals['shift']\n",
    "    decay = vals['decay']\n",
    "\n",
    "    if abs(shift) > pi/2:\n",
    "        shift = shift - sign(shift)*pi\n",
    "    model = amp * sin(shift + x/per) * exp(-x*x*decay*decay)\n",
    "    if data is None:\n",
    "        return model\n",
    "    return model - data\n",
    "\n",
    "\n",
    "random.seed(0)\n",
    "x = linspace(0.0, 250., 1001)\n",
    "noise = random.normal(scale=0.7215, size=x.size)\n",
    "data = residual(p_true, x) + noise\n",
    "\n",
    "fit_params = Parameters()\n",
    "fit_params.add('amp', value=13.0)\n",
    "fit_params.add('period', value=2)\n",
    "fit_params.add('shift', value=0.0)\n",
    "fit_params.add('decay', value=0.02)\n",
    "\n",
    "out = minimize(residual, fit_params, args=(x,), kws={'data': data})\n",
    "\n",
    "print(fit_report(out))"
   ]
  },
  {
   "cell_type": "code",
   "execution_count": 17,
   "metadata": {},
   "outputs": [
    {
     "name": "stdout",
     "output_type": "stream",
     "text": [
      "1.0.2\n"
     ]
    }
   ],
   "source": [
    "print(lmfit.__version__)"
   ]
  },
  {
   "cell_type": "code",
   "execution_count": null,
   "metadata": {},
   "outputs": [],
   "source": []
  }
 ],
 "metadata": {
  "kernelspec": {
   "display_name": "Python 3",
   "language": "python",
   "name": "python3"
  },
  "language_info": {
   "codemirror_mode": {
    "name": "ipython",
    "version": 3
   },
   "file_extension": ".py",
   "mimetype": "text/x-python",
   "name": "python",
   "nbconvert_exporter": "python",
   "pygments_lexer": "ipython3",
   "version": "3.8.5"
  }
 },
 "nbformat": 4,
 "nbformat_minor": 4
}
